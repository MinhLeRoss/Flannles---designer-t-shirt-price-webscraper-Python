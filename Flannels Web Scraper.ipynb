{
 "cells": [
  {
   "cell_type": "code",
   "execution_count": 82,
   "id": "9f700d36",
   "metadata": {},
   "outputs": [],
   "source": [
    "# import libraries \n",
    "\n",
    "from bs4 import BeautifulSoup\n",
    "import requests\n",
    "import time\n",
    "import datetime\n",
    "\n",
    "import smtplib\n"
   ]
  },
  {
   "cell_type": "code",
   "execution_count": 83,
   "id": "f988e137",
   "metadata": {},
   "outputs": [],
   "source": [
    "# Connect to Website and pull in data\n",
    "\n",
    "URL = 'https://www.flannels.com/palm-angels-kill-bear-t-shirt-597506#colcode=59750603'\n",
    "\n",
    "headers = {\"User-Agent\": \"Mozilla/5.0 (Windows NT 10.0; Win64; x64) AppleWebKit/537.36 (KHTML, like Gecko) Chrome/105.0.0.0 Safari/537.36\"}\n",
    "\n",
    "page = requests.get(URL, headers=headers)\n",
    "\n",
    "soup1 = BeautifulSoup(page.content, \"html.parser\")\n",
    "\n",
    "soup2 = BeautifulSoup(soup1.prettify(), \"html.parser\")\n",
    "\n"
   ]
  },
  {
   "cell_type": "code",
   "execution_count": 88,
   "id": "28b492b9",
   "metadata": {},
   "outputs": [
    {
     "name": "stdout",
     "output_type": "stream",
     "text": [
      "\n",
      "               £199\n",
      "              \n",
      "\n",
      "\n",
      "               Kill Bear T Shirt\n",
      "               \n",
      "\n",
      "\n",
      "                £245\n",
      "               \n"
     ]
    }
   ],
   "source": [
    "title = soup2.find(id='lblProductName').get_text()\n",
    "discounted_price = soup2.find(id='lblSellingPrice').get_text()\n",
    "original_price = soup2.find(id='lblTicketPrice').get_text()\n",
    "\n",
    "print(discounted_price)\n",
    "print(title)\n",
    "print(original_price)"
   ]
  },
  {
   "cell_type": "code",
   "execution_count": 89,
   "id": "47d4dc64",
   "metadata": {},
   "outputs": [
    {
     "name": "stdout",
     "output_type": "stream",
     "text": [
      "Kill Bear T Shirt\n",
      "£245\n",
      "£199\n"
     ]
    }
   ],
   "source": [
    "# Clean up the data a little bit\n",
    "\n",
    "discounted_price = discounted_price.strip()\n",
    "original_price = original_price.strip()\n",
    "title = title.strip()\n",
    "\n",
    "print(title)\n",
    "print(original_price)\n",
    "print(discounted_price)"
   ]
  },
  {
   "cell_type": "code",
   "execution_count": 90,
   "id": "407b367d",
   "metadata": {},
   "outputs": [
    {
     "name": "stdout",
     "output_type": "stream",
     "text": [
      "2022-09-04\n"
     ]
    }
   ],
   "source": [
    "# Timestamp for output to track when data was collected\n",
    "\n",
    "import datetime\n",
    "\n",
    "today = datetime.date.today()\n",
    "\n",
    "print(today)"
   ]
  },
  {
   "cell_type": "code",
   "execution_count": 116,
   "id": "5edd4574",
   "metadata": {},
   "outputs": [],
   "source": [
    "import csv\n",
    "\n",
    "header = ['Title','original_Price','discounted_price','Date']\n",
    "# Turning data from string to list\n",
    "data = [title, original_price, discounted_price, today]\n",
    "\n",
    "type(data)\n",
    "\n",
    "with open('FlannelsWebScraperData.csv', 'w', newline='', encoding='UTF8') as f:\n",
    "    writer = csv.writer(f)\n",
    "    writer.writerow(header)\n",
    "    writer.writerow(data)\n",
    "    "
   ]
  },
  {
   "cell_type": "code",
   "execution_count": 122,
   "id": "34019bc8",
   "metadata": {},
   "outputs": [
    {
     "name": "stdout",
     "output_type": "stream",
     "text": [
      "               Title original_Price discounted_price        Date\n",
      "0  Kill Bear T Shirt           £245             £199  2022-09-04\n",
      "1  Kill Bear T Shirt           £245             £199  2022-09-04\n",
      "2  Kill Bear T Shirt           £245             £199  2022-09-04\n"
     ]
    }
   ],
   "source": [
    "import pandas as pd\n",
    "df = pd.read_csv(r'C:\\Users\\Minh\\FlannelsWebScraperData.csv')\n",
    "print(df)"
   ]
  },
  {
   "cell_type": "code",
   "execution_count": 120,
   "id": "4f129b20",
   "metadata": {},
   "outputs": [],
   "source": [
    "# Now appending data to the csv\n",
    "with open('FlannelsWebScraperData.csv', 'a+', newline='', encoding='UTF8') as f:\n",
    "    writer = csv.writer(f)\n",
    "    writer.writerow(data)"
   ]
  },
  {
   "cell_type": "code",
   "execution_count": 126,
   "id": "35143efc",
   "metadata": {},
   "outputs": [],
   "source": [
    "def check_price():\n",
    "    URL = 'https://www.flannels.com/palm-angels-kill-bear-t-shirt-597506#colcode=59750603'\n",
    "\n",
    "    headers = {\"User-Agent\": \"Mozilla/5.0 (Windows NT 10.0; Win64; x64) AppleWebKit/537.36 (KHTML, like Gecko) Chrome/105.0.0.0 Safari/537.36\"}\n",
    "\n",
    "    page = requests.get(URL, headers=headers)\n",
    "\n",
    "    soup1 = BeautifulSoup(page.content, \"html.parser\")\n",
    "\n",
    "    soup2 = BeautifulSoup(soup1.prettify(), \"html.parser\")\n",
    "\n",
    "    title = soup2.find(id='lblProductName').get_text()\n",
    "    discounted_price = soup2.find(id='lblSellingPrice').get_text()\n",
    "    original_price = soup2.find(id='lblTicketPrice').get_text()\n",
    "    \n",
    "    discounted_price = discounted_price.strip()\n",
    "    original_price = original_price.strip()\n",
    "    title = title.strip()\n",
    "    \n",
    "    import datetime\n",
    "\n",
    "    today = datetime.date.today()\n",
    "\n",
    "    header = ['Title','original_Price','discounted_price','Date']\n",
    "    data = [title, original_price, discounted_price, today]\n",
    "    \n",
    "    with open('FlannelsWebScraperData.csv', 'a+', newline='', encoding='UTF8') as f:\n",
    "        writer = csv.writer(f)\n",
    "        writer.writerow(data)\n",
    "    \n",
    "    "
   ]
  },
  {
   "cell_type": "code",
   "execution_count": null,
   "id": "353e42bf",
   "metadata": {},
   "outputs": [],
   "source": [
    "# This will check the price of the chosen T Shirt every single day (24hrs)\n",
    "while(True):\n",
    "    check_price()\n",
    "    time.sleep(86400) #86400 seconds in a day\n",
    "    "
   ]
  },
  {
   "cell_type": "code",
   "execution_count": null,
   "id": "3000d08e",
   "metadata": {},
   "outputs": [],
   "source": []
  }
 ],
 "metadata": {
  "kernelspec": {
   "display_name": "Python 3 (ipykernel)",
   "language": "python",
   "name": "python3"
  },
  "language_info": {
   "codemirror_mode": {
    "name": "ipython",
    "version": 3
   },
   "file_extension": ".py",
   "mimetype": "text/x-python",
   "name": "python",
   "nbconvert_exporter": "python",
   "pygments_lexer": "ipython3",
   "version": "3.9.12"
  }
 },
 "nbformat": 4,
 "nbformat_minor": 5
}
